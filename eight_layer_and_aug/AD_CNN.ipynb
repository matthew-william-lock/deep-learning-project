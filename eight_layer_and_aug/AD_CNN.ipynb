{
  "nbformat": 4,
  "nbformat_minor": 0,
  "metadata": {
    "colab": {
      "name": "AD_CNN.ipynb",
      "provenance": [],
      "collapsed_sections": [],
      "include_colab_link": true
    },
    "kernelspec": {
      "name": "python3",
      "display_name": "Python 3"
    },
    "language_info": {
      "name": "python"
    },
    "accelerator": "GPU"
  },
  "cells": [
    {
      "cell_type": "markdown",
      "metadata": {
        "id": "view-in-github",
        "colab_type": "text"
      },
      "source": [
        "<a href=\"https://colab.research.google.com/github/matthew-william-lock/Alzheimers-CNN/blob/main/AD_CNN.ipynb\" target=\"_parent\"><img src=\"https://colab.research.google.com/assets/colab-badge.svg\" alt=\"Open In Colab\"/></a>"
      ]
    },
    {
      "cell_type": "markdown",
      "source": [
        "# Download Kaggle Dataset"
      ],
      "metadata": {
        "id": "c5ryswdBsDat"
      }
    },
    {
      "cell_type": "markdown",
      "source": [
        "# Load Libraries"
      ],
      "metadata": {
        "id": "ywRxeqPYm6eU"
      }
    },
    {
      "cell_type": "code",
      "execution_count": 5,
      "metadata": {
        "id": "2ITLrRtlVyqX"
      },
      "outputs": [],
      "source": [
        "import numpy as np\n",
        "\n",
        "import os\n",
        "import sys\n",
        "from PIL import Image\n",
        "\n",
        "# tensorflow\n",
        "import tensorflow as tf\n",
        "\n",
        "# sklearn\n",
        "from sklearn.model_selection import train_test_split\n",
        "\n",
        "# Plotting\n",
        "from matplotlib import pyplot as plt\n",
        "\n",
        "# Augmentation\n",
        "import imgaug as ia\n",
        "from imgaug import augmenters as iaa\n"
      ]
    },
    {
      "cell_type": "code",
      "source": [
        "# Follow tutorial at : https://www.analyticsvidhya.com/blog/2021/06/how-to-load-kaggle-datasets-directly-into-google-colab/\n",
        "\n",
        "! pip install kaggle\n",
        "! mkdir ~/.kaggle\n",
        "! cp kaggle.json ~/.kaggle/\n",
        "! chmod 600 ~/.kaggle/kaggle.json\n",
        "! kaggle datasets download sachinkumar413/alzheimer-mri-dataset\n",
        "! unzip alzheimer-mri-dataset.zip"
      ],
      "metadata": {
        "colab": {
          "base_uri": "https://localhost:8080/"
        },
        "id": "M3AWS_xWsI1w",
        "outputId": "66f3a3aa-f09e-4c86-c933-f0961567a87a"
      },
      "execution_count": 6,
      "outputs": [
        {
          "output_type": "stream",
          "name": "stdout",
          "text": [
            "Requirement already satisfied: kaggle in /usr/local/lib/python3.7/dist-packages (1.5.12)\n",
            "Requirement already satisfied: python-dateutil in /usr/local/lib/python3.7/dist-packages (from kaggle) (2.8.2)\n",
            "Requirement already satisfied: tqdm in /usr/local/lib/python3.7/dist-packages (from kaggle) (4.64.0)\n",
            "Requirement already satisfied: python-slugify in /usr/local/lib/python3.7/dist-packages (from kaggle) (6.1.2)\n",
            "Requirement already satisfied: urllib3 in /usr/local/lib/python3.7/dist-packages (from kaggle) (1.24.3)\n",
            "Requirement already satisfied: requests in /usr/local/lib/python3.7/dist-packages (from kaggle) (2.23.0)\n",
            "Requirement already satisfied: six>=1.10 in /usr/local/lib/python3.7/dist-packages (from kaggle) (1.15.0)\n",
            "Requirement already satisfied: certifi in /usr/local/lib/python3.7/dist-packages (from kaggle) (2021.10.8)\n",
            "Requirement already satisfied: text-unidecode>=1.3 in /usr/local/lib/python3.7/dist-packages (from python-slugify->kaggle) (1.3)\n",
            "Requirement already satisfied: chardet<4,>=3.0.2 in /usr/local/lib/python3.7/dist-packages (from requests->kaggle) (3.0.4)\n",
            "Requirement already satisfied: idna<3,>=2.5 in /usr/local/lib/python3.7/dist-packages (from requests->kaggle) (2.10)\n",
            "mkdir: cannot create directory ‘/root/.kaggle’: File exists\n",
            "alzheimer-mri-dataset.zip: Skipping, found more recently modified local copy (use --force to force download)\n",
            "Archive:  alzheimer-mri-dataset.zip\n",
            "replace Dataset/Mild_Demented/mild.jpg? [y]es, [n]o, [A]ll, [N]one, [r]ename: N\n"
          ]
        }
      ]
    },
    {
      "cell_type": "markdown",
      "source": [
        "# Check if GPU is Avaiable\n",
        "\n",
        "Useful links:\n",
        "- [Enabling GPUs for google collab](https://colab.research.google.com/notebooks/gpu.ipynb)"
      ],
      "metadata": {
        "id": "NKMQk9XOp-4s"
      }
    },
    {
      "cell_type": "code",
      "source": [
        "device_name = tf.config.list_physical_devices('GPU')\n",
        "print(\"Num GPUs Available: \", len(tf.config.list_physical_devices('GPU')))"
      ],
      "metadata": {
        "id": "QSvevIclf0Jc",
        "colab": {
          "base_uri": "https://localhost:8080/"
        },
        "outputId": "7a88f844-1db6-42b8-b5f4-1705b9d9670a"
      },
      "execution_count": 7,
      "outputs": [
        {
          "output_type": "stream",
          "name": "stdout",
          "text": [
            "Num GPUs Available:  0\n"
          ]
        }
      ]
    },
    {
      "cell_type": "markdown",
      "source": [
        "# Load Data"
      ],
      "metadata": {
        "id": "7BFTTqoRm-Sw"
      }
    },
    {
      "cell_type": "code",
      "source": [
        "# Load and process data\n",
        "\n",
        "cwd = os.path.join(os.getcwd(), 'Dataset')\n",
        "\n",
        "\n",
        "def data_processing():\n",
        "\n",
        "    # Define labes\n",
        "    c = ['mild','moderate','non','verymild']\n",
        "\n",
        "    # Define map for number of images\n",
        "    image_breakdown = {}\n",
        "    for key in c:\n",
        "      image_breakdown[key] = 0   \n",
        "\n",
        "    # Get list of directories in 'Dataset' folder \n",
        "    pic_directories = os.listdir(cwd)\n",
        "\n",
        "    # Instantiate X and Y\n",
        "    X = []\n",
        "    Y = []\n",
        "\n",
        "    # Iterate through each directory\n",
        "    for folder in pic_directories:\n",
        "\n",
        "      # Get images in folder\n",
        "      print(folder)\n",
        "      dir = os.path.join(cwd, str(folder))\n",
        "      images = os.listdir(dir)\n",
        "      print(len(images))\n",
        "\n",
        "      # Iterate through images and add to data\n",
        "      for image_str in images:\n",
        "        image_name = image_str.split('.')[0]\n",
        "        with Image.open(os.path.join(dir,image_str)) as im:    \n",
        "          key = image_name.split('_')[0]\n",
        "          if len(X) == 0:\n",
        "            X = [np.array(im)]\n",
        "            Y = np.array([c.index(key)])\n",
        "            image_breakdown[key] +=1\n",
        "          else:\n",
        "            X = np.append(X, [np.array(im)], axis=0)\n",
        "            Y = np.append(Y, [c.index(key)],axis=0)\n",
        "            image_breakdown[key] +=1\n",
        "    \n",
        "    # Process loaded data\n",
        "    Y = tf.keras.utils.to_categorical(Y)\n",
        "    X = X.astype('float32')\n",
        "    X = X/np.max(X)     \n",
        "\n",
        "    # return X, Y\n",
        "    return X,Y, image_breakdown\n",
        "\n",
        "X, Y, image_breakdown = data_processing()\n",
        "print(image_breakdown)"
      ],
      "metadata": {
        "colab": {
          "base_uri": "https://localhost:8080/"
        },
        "id": "YXaqH17AYG1m",
        "outputId": "35500d5b-6fd1-4d36-b81a-e4686634d28b"
      },
      "execution_count": 8,
      "outputs": [
        {
          "output_type": "stream",
          "name": "stdout",
          "text": [
            "Very_Mild_Demented\n",
            "2240\n",
            "Non_Demented\n",
            "3200\n",
            "Mild_Demented\n",
            "896\n",
            "Moderate_Demented\n",
            "64\n",
            "{'mild': 896, 'moderate': 64, 'non': 3200, 'verymild': 2240}\n"
          ]
        }
      ]
    },
    {
      "cell_type": "code",
      "source": [
        "# Sanity check\n",
        "print(X.shape)\n",
        "print(Y.shape)\n",
        "\n",
        "print(\"Image data\")\n",
        "print(X[0])\n",
        "print(\"Label data\")\n",
        "print(Y[0])\n",
        "\n",
        "# Total number of images\n",
        "total_images = 0\n",
        "for key in image_breakdown:\n",
        "  total_images += image_breakdown[key]\n",
        "print('Total images : {}'.format(total_images))"
      ],
      "metadata": {
        "colab": {
          "base_uri": "https://localhost:8080/"
        },
        "id": "RUsHEv_0teIl",
        "outputId": "976561cc-99bb-4c66-b1be-1485769aaf87"
      },
      "execution_count": 9,
      "outputs": [
        {
          "output_type": "stream",
          "name": "stdout",
          "text": [
            "(6400, 128, 128)\n",
            "(6400, 4)\n",
            "Image data\n",
            "[[0. 0. 0. ... 0. 0. 0.]\n",
            " [0. 0. 0. ... 0. 0. 0.]\n",
            " [0. 0. 0. ... 0. 0. 0.]\n",
            " ...\n",
            " [0. 0. 0. ... 0. 0. 0.]\n",
            " [0. 0. 0. ... 0. 0. 0.]\n",
            " [0. 0. 0. ... 0. 0. 0.]]\n",
            "Label data\n",
            "[0. 0. 0. 1.]\n",
            "Total images : 6400\n"
          ]
        }
      ]
    },
    {
      "cell_type": "markdown",
      "source": [
        "## Split Data"
      ],
      "metadata": {
        "id": "yIcUcZBPuJjM"
      }
    },
    {
      "cell_type": "code",
      "source": [
        "# index to label\n",
        "index_to_label = {\n",
        "    0 :'mild',\n",
        "    1: 'moderate',\n",
        "    2 : 'non',\n",
        "    3 : 'verymild'\n",
        "}\n",
        "\n",
        "# Get data distribution\n",
        "def get_data_distribution(data, normalise= True):\n",
        "  \"\"\" REturn the distribution of images in each class\"\"\"\n",
        "\n",
        "  distribution = {}\n",
        "  total_images = 0;\n",
        "\n",
        "  for key in index_to_label.keys():\n",
        "    key = index_to_label[key]\n",
        "    distribution[key] = 0\n",
        "  \n",
        "  # Get total number of images in each category\n",
        "  for item in data:\n",
        "    index = np.where(item == 1)\n",
        "    key = index_to_label[index[0][0]]\n",
        "    if key in distribution:\n",
        "      distribution[key] +=1\n",
        "    total_images +=1\n",
        "\n",
        "  # Get distribution of each category\n",
        "  if normalise:\n",
        "    for key in distribution.keys():\n",
        "      distribution[key] = distribution[key]/total_images\n",
        "  distribution['total_images'] = total_images\n",
        "\n",
        "  # Print results\n",
        "  print(distribution)\n",
        "\n",
        "def split_data_into_classes(X,Y):\n",
        "  x_data = {}\n",
        "  y_data = {}\n",
        "\n",
        "  for index,image in enumerate(X):\n",
        "\n",
        "    label = Y[index]\n",
        "    index = np.where(label == 1)\n",
        "    key = index_to_label[index[0][0]]\n",
        "\n",
        "    if key not in x_data:\n",
        "      x_data[key] = [image]\n",
        "      y_data[key] = [label]\n",
        "\n",
        "    else:\n",
        "      x_data[key].append(image)\n",
        "      y_data[key].append(label)\n",
        "\n",
        "  return x_data, y_data\n",
        "\n",
        "# Define data split\n",
        "def partition(X,Y,size=0.2):\n",
        "    return train_test_split(X, Y, test_size=size, random_state=42, stratify = Y)\n",
        "\n",
        "# Partition the data\n",
        "X_train, X_test, Y_train, Y_test = partition(X,Y)\n",
        "get_data_distribution(Y)\n",
        "get_data_distribution(Y_train)"
      ],
      "metadata": {
        "id": "BzxoogWQuMF2",
        "outputId": "69decca7-9cae-4a3e-a80f-ad883ba9eb65",
        "colab": {
          "base_uri": "https://localhost:8080/"
        }
      },
      "execution_count": 10,
      "outputs": [
        {
          "output_type": "stream",
          "name": "stdout",
          "text": [
            "{'mild': 0.14, 'moderate': 0.01, 'non': 0.5, 'verymild': 0.35, 'total_images': 6400}\n",
            "{'mild': 0.1400390625, 'moderate': 0.0099609375, 'non': 0.5, 'verymild': 0.35, 'total_images': 5120}\n"
          ]
        }
      ]
    },
    {
      "cell_type": "markdown",
      "source": [
        "## Augment the data"
      ],
      "metadata": {
        "id": "PHyUqgzrlf4Z"
      }
    },
    {
      "cell_type": "code",
      "source": [
        "# Distribution before augmentation\n",
        "get_data_distribution(Y_train,normalise = False)"
      ],
      "metadata": {
        "id": "Z05gUzUdlmXJ",
        "outputId": "c3dd4a1c-dd1a-4370-f30e-230cc74eb835",
        "colab": {
          "base_uri": "https://localhost:8080/"
        }
      },
      "execution_count": 11,
      "outputs": [
        {
          "output_type": "stream",
          "name": "stdout",
          "text": [
            "{'mild': 717, 'moderate': 51, 'non': 2560, 'verymild': 1792, 'total_images': 5120}\n"
          ]
        }
      ]
    },
    {
      "cell_type": "code",
      "source": [
        "# Apply augmentation on X_train_split, Y_train_split\n",
        "# Split the training data into respective classes\n",
        "X_train_split, Y_train_split = split_data_into_classes(X_train,Y_train)\n",
        "\n",
        "# Augmentation sequences\n",
        "rotate_seq = iaa.Sequential([iaa.Affine(rotate=(-25, 25),)], random_order=True) # apply augmenters in random order\n",
        "translate_seq = iaa.Sequential([iaa.Affine(translate_percent={\"x\": (-0.1, 0.1), \"y\": (-0.1, 0.1)},)], random_order=True) \n",
        "gamma_correct_seq = iaa.Sequential([iaa.GammaContrast((0.5, 2.0))], random_order=True) \n",
        "gaus_seq = iaa.Sequential([iaa.AdditiveGaussianNoise(loc=0, scale=(0.0, 0.05)),], random_order=True) \n",
        "scaling_seq =  iaa.Sequential([iaa.Affine(scale={\"x\": (0.8, 1.2), \"y\": (0.8, 1.2)},)], random_order=True)\n",
        "affine_seq =  iaa.Sequential([iaa.Affine(\n",
        "        scale={\"x\": (0.8, 1.2), \"y\": (0.8, 1.2)},\n",
        "        translate_percent={\"x\": (-0.2, 0.2), \"y\": (-0.2, 0.2)},\n",
        "        rotate=(-25, 25),\n",
        "        shear=(-8, 8)\n",
        "    )], random_order=True)  \n",
        "\n",
        "keys = ['mild','moderate','non','verymild']   \n",
        "\n",
        "# Rotate\n",
        "def apply_augmentation(X_train_split,Y_train_split, num_copies, key):\n",
        "\n",
        "  copies_X = X_train_split[key]*num_copies\n",
        "  copies_Y = Y_train_split[key]*num_copies*6\n",
        "\n",
        "  images_rotated = rotate_seq(images=copies_X)\n",
        "  images_translated = translate_seq(images=copies_X)\n",
        "  images_gamma_corrected = gamma_correct_seq(images=copies_X)\n",
        "  images_gaus = gaus_seq(images=copies_X)\n",
        "  images_scaled = scaling_seq(images=copies_X)\n",
        "  images_affine = affine_seq(images=copies_X)\n",
        "\n",
        "  # Create output of augmented images\n",
        "\n",
        "  augmented_X = images_rotated\n",
        "  augmented_Y = np.array(copies_Y)\n",
        "\n",
        "  augmented_X = np.append(augmented_X, images_translated, axis=0)\n",
        "  augmented_X = np.append(augmented_X, images_gamma_corrected, axis=0)\n",
        "  augmented_X = np.append(augmented_X, images_gaus, axis=0)\n",
        "  augmented_X = np.append(augmented_X, images_scaled, axis=0)\n",
        "  augmented_X = np.append(augmented_X, images_affine, axis=0)\n",
        "\n",
        "  return augmented_X,augmented_Y\n",
        "\n",
        "augmented_X,augmented_Y = apply_augmentation(X_train_split,Y_train_split, 40, 'moderate')\n",
        "X_train = np.append(X_train,augmented_X,axis=0)\n",
        "Y_train = np.append(Y_train,augmented_Y,axis=0)\n",
        "\n",
        "augmented_X,augmented_Y = apply_augmentation(X_train_split,Y_train_split, 1, 'non')\n",
        "X_train = np.append(X_train,augmented_X,axis=0)\n",
        "Y_train = np.append(Y_train,augmented_Y,axis=0)\n",
        "\n",
        "augmented_X,augmented_Y = apply_augmentation(X_train_split,Y_train_split, 1, 'verymild')\n",
        "X_train = np.append(X_train,augmented_X,axis=0)\n",
        "Y_train = np.append(Y_train,augmented_Y,axis=0)\n",
        "\n",
        "augmented_X,augmented_Y = apply_augmentation(X_train_split,Y_train_split, 3, 'mild')\n",
        "X_train = np.append(X_train,augmented_X,axis=0)\n",
        "Y_train = np.append(Y_train,augmented_Y,axis=0)\n",
        "\n",
        "# Print distribution\n",
        "get_data_distribution(Y_train,normalise = False)"
      ],
      "metadata": {
        "id": "4tFr2SEBIoqV",
        "outputId": "41133527-3bca-4fa7-f973-558b261bf0c0",
        "colab": {
          "base_uri": "https://localhost:8080/"
        }
      },
      "execution_count": 12,
      "outputs": [
        {
          "output_type": "stream",
          "name": "stdout",
          "text": [
            "{'mild': 13623, 'moderate': 12291, 'non': 17920, 'verymild': 12544, 'total_images': 56378}\n"
          ]
        }
      ]
    },
    {
      "cell_type": "code",
      "source": [
        "# Print distribution\n",
        "get_data_distribution(Y_train,normalise = False)\n",
        "get_data_distribution(Y_train)"
      ],
      "metadata": {
        "id": "IHDI_6F4inUx",
        "outputId": "541cfda4-26de-4802-d005-52ab37660f86",
        "colab": {
          "base_uri": "https://localhost:8080/"
        }
      },
      "execution_count": 13,
      "outputs": [
        {
          "output_type": "stream",
          "name": "stdout",
          "text": [
            "{'mild': 13623, 'moderate': 12291, 'non': 17920, 'verymild': 12544, 'total_images': 56378}\n",
            "{'mild': 0.24163680868423854, 'moderate': 0.21801057149952108, 'non': 0.3178544822448473, 'verymild': 0.22249813757139308, 'total_images': 56378}\n"
          ]
        }
      ]
    },
    {
      "cell_type": "code",
      "source": [
        "print('Shape Y_train \" {}'.format(Y_train.shape))\n",
        "print('Shape X_test \" {}'.format(X_test.shape))\n",
        "print('Shape Y_test \" {}'.format(Y_test.shape))"
      ],
      "metadata": {
        "id": "PczelnL3W8ic",
        "outputId": "34bd473f-b851-4b96-c48b-0551c00a5529",
        "colab": {
          "base_uri": "https://localhost:8080/"
        }
      },
      "execution_count": 14,
      "outputs": [
        {
          "output_type": "stream",
          "name": "stdout",
          "text": [
            "Shape Y_train \" (56378, 4)\n",
            "Shape X_test \" (1280, 128, 128)\n",
            "Shape Y_test \" (1280, 4)\n"
          ]
        }
      ]
    },
    {
      "cell_type": "markdown",
      "source": [
        "# Model"
      ],
      "metadata": {
        "id": "G79lKAGYu8VQ"
      }
    },
    {
      "cell_type": "markdown",
      "source": [
        "## Define the model"
      ],
      "metadata": {
        "id": "LE0Mc68-vI62"
      }
    },
    {
      "cell_type": "code",
      "source": [
        "def basic_CNN_model(): \n",
        "    model=tf.keras.Sequential()\n",
        "    model.add(tf.keras.layers.Reshape(target_shape=(128,128,1), input_shape=(128,128)))\n",
        "    model.add(tf.keras.layers.Conv2D(8, (3, 3), activation='relu', kernel_initializer='he_uniform', padding='same', input_shape=(128, 128, 1), name='first_conv')) #strides=(2, 2),\n",
        "    #model.add(tf.keras.layers.BatchNormalization())\n",
        "    #model.add(tf.keras.layers.Conv2D(2, (3, 3), activation='relu', kernel_initializer='he_uniform', padding='same'))\n",
        "    model.add(tf.keras.layers.Conv2D(2, (3, 3), activation='relu', kernel_initializer='he_uniform', padding='same', name='mid_conv'))\n",
        "    model.add(tf.keras.layers.Conv2D(1, (3, 3), activation='relu', kernel_initializer='he_uniform', padding='same', name='last_conv'))\n",
        "    #model.add(tf.keras.layers.BatchNormalization())\n",
        "    model.add(tf.keras.layers.MaxPool2D(pool_size=(3, 3), strides=(2, 2)))\n",
        "    #model.add(tf.keras.layers.Dropout(0.2))\n",
        "    #model.add(tf.keras.layers.Conv2D(16, (3, 3), activation='relu', kernel_initializer='he_uniform', padding='same', input_shape=(128, 128, 1))) #strides=(2, 2),\n",
        "    #model.add(tf.keras.layers.Conv2D(1, (3, 3), activation='relu', kernel_initializer='he_uniform', padding='same'))\n",
        "    #model.add(tf.keras.layers.MaxPool2D(pool_size=(3, 3), strides=(2, 2)))\n",
        "    model.add(tf.keras.layers.Flatten())\n",
        "    #model.add(tf.keras.layers.Dense(32, activation=\"relu\"))\n",
        "    model.add(tf.keras.layers.Dense(4, activation=\"softmax\"))\n",
        "    return model"
      ],
      "metadata": {
        "id": "_QTrXaeLvLDj"
      },
      "execution_count": 15,
      "outputs": []
    },
    {
      "cell_type": "markdown",
      "source": [
        "## Compile the mode"
      ],
      "metadata": {
        "id": "GcasOFt1wS5L"
      }
    },
    {
      "cell_type": "code",
      "source": [
        "model = basic_CNN_model()\n",
        "model.compile(optimizer=\"Adam\", loss=tf.keras.losses.CategoricalCrossentropy(), metrics=[tf.keras.metrics.CategoricalAccuracy()])\n",
        "model.summary()"
      ],
      "metadata": {
        "colab": {
          "base_uri": "https://localhost:8080/"
        },
        "id": "oce15RXhwSls",
        "outputId": "21c0700c-b28a-46aa-f595-d4ca9e64c461"
      },
      "execution_count": 16,
      "outputs": [
        {
          "output_type": "stream",
          "name": "stdout",
          "text": [
            "Model: \"sequential\"\n",
            "_________________________________________________________________\n",
            " Layer (type)                Output Shape              Param #   \n",
            "=================================================================\n",
            " reshape (Reshape)           (None, 128, 128, 1)       0         \n",
            "                                                                 \n",
            " first_conv (Conv2D)         (None, 128, 128, 8)       80        \n",
            "                                                                 \n",
            " mid_conv (Conv2D)           (None, 128, 128, 2)       146       \n",
            "                                                                 \n",
            " last_conv (Conv2D)          (None, 128, 128, 1)       19        \n",
            "                                                                 \n",
            " max_pooling2d (MaxPooling2D  (None, 63, 63, 1)        0         \n",
            " )                                                               \n",
            "                                                                 \n",
            " flatten (Flatten)           (None, 3969)              0         \n",
            "                                                                 \n",
            " dense (Dense)               (None, 4)                 15880     \n",
            "                                                                 \n",
            "=================================================================\n",
            "Total params: 16,125\n",
            "Trainable params: 16,125\n",
            "Non-trainable params: 0\n",
            "_________________________________________________________________\n"
          ]
        }
      ]
    },
    {
      "cell_type": "markdown",
      "source": [
        "# Train the model"
      ],
      "metadata": {
        "id": "MmX8nEEjwl-X"
      }
    },
    {
      "cell_type": "code",
      "source": [
        "history = model.fit(X_train, Y_train, epochs=30, batch_size=64, validation_data=(X_test, Y_test), verbose=1, callbacks=[tf.keras.callbacks.EarlyStopping(patience=3)])"
      ],
      "metadata": {
        "colab": {
          "base_uri": "https://localhost:8080/",
          "height": 345
        },
        "id": "RuHXjF_KwuOo",
        "outputId": "d0e1a936-9bda-45e7-fee6-1b90c6770e57"
      },
      "execution_count": 17,
      "outputs": [
        {
          "output_type": "stream",
          "name": "stdout",
          "text": [
            "Epoch 1/30\n",
            " 20/881 [..............................] - ETA: 11:40 - loss: 1.3952 - categorical_accuracy: 0.2984"
          ]
        },
        {
          "output_type": "error",
          "ename": "KeyboardInterrupt",
          "evalue": "ignored",
          "traceback": [
            "\u001b[0;31m---------------------------------------------------------------------------\u001b[0m",
            "\u001b[0;31mKeyboardInterrupt\u001b[0m                         Traceback (most recent call last)",
            "\u001b[0;32m<ipython-input-17-26eb57c10407>\u001b[0m in \u001b[0;36m<module>\u001b[0;34m()\u001b[0m\n\u001b[0;32m----> 1\u001b[0;31m \u001b[0mhistory\u001b[0m \u001b[0;34m=\u001b[0m \u001b[0mmodel\u001b[0m\u001b[0;34m.\u001b[0m\u001b[0mfit\u001b[0m\u001b[0;34m(\u001b[0m\u001b[0mX_train\u001b[0m\u001b[0;34m,\u001b[0m \u001b[0mY_train\u001b[0m\u001b[0;34m,\u001b[0m \u001b[0mepochs\u001b[0m\u001b[0;34m=\u001b[0m\u001b[0;36m30\u001b[0m\u001b[0;34m,\u001b[0m \u001b[0mbatch_size\u001b[0m\u001b[0;34m=\u001b[0m\u001b[0;36m64\u001b[0m\u001b[0;34m,\u001b[0m \u001b[0mvalidation_data\u001b[0m\u001b[0;34m=\u001b[0m\u001b[0;34m(\u001b[0m\u001b[0mX_test\u001b[0m\u001b[0;34m,\u001b[0m \u001b[0mY_test\u001b[0m\u001b[0;34m)\u001b[0m\u001b[0;34m,\u001b[0m \u001b[0mverbose\u001b[0m\u001b[0;34m=\u001b[0m\u001b[0;36m1\u001b[0m\u001b[0;34m,\u001b[0m \u001b[0mcallbacks\u001b[0m\u001b[0;34m=\u001b[0m\u001b[0;34m[\u001b[0m\u001b[0mtf\u001b[0m\u001b[0;34m.\u001b[0m\u001b[0mkeras\u001b[0m\u001b[0;34m.\u001b[0m\u001b[0mcallbacks\u001b[0m\u001b[0;34m.\u001b[0m\u001b[0mEarlyStopping\u001b[0m\u001b[0;34m(\u001b[0m\u001b[0mpatience\u001b[0m\u001b[0;34m=\u001b[0m\u001b[0;36m3\u001b[0m\u001b[0;34m)\u001b[0m\u001b[0;34m]\u001b[0m\u001b[0;34m)\u001b[0m\u001b[0;34m\u001b[0m\u001b[0;34m\u001b[0m\u001b[0m\n\u001b[0m",
            "\u001b[0;32m/usr/local/lib/python3.7/dist-packages/keras/utils/traceback_utils.py\u001b[0m in \u001b[0;36merror_handler\u001b[0;34m(*args, **kwargs)\u001b[0m\n\u001b[1;32m     62\u001b[0m     \u001b[0mfiltered_tb\u001b[0m \u001b[0;34m=\u001b[0m \u001b[0;32mNone\u001b[0m\u001b[0;34m\u001b[0m\u001b[0;34m\u001b[0m\u001b[0m\n\u001b[1;32m     63\u001b[0m     \u001b[0;32mtry\u001b[0m\u001b[0;34m:\u001b[0m\u001b[0;34m\u001b[0m\u001b[0;34m\u001b[0m\u001b[0m\n\u001b[0;32m---> 64\u001b[0;31m       \u001b[0;32mreturn\u001b[0m \u001b[0mfn\u001b[0m\u001b[0;34m(\u001b[0m\u001b[0;34m*\u001b[0m\u001b[0margs\u001b[0m\u001b[0;34m,\u001b[0m \u001b[0;34m**\u001b[0m\u001b[0mkwargs\u001b[0m\u001b[0;34m)\u001b[0m\u001b[0;34m\u001b[0m\u001b[0;34m\u001b[0m\u001b[0m\n\u001b[0m\u001b[1;32m     65\u001b[0m     \u001b[0;32mexcept\u001b[0m \u001b[0mException\u001b[0m \u001b[0;32mas\u001b[0m \u001b[0me\u001b[0m\u001b[0;34m:\u001b[0m  \u001b[0;31m# pylint: disable=broad-except\u001b[0m\u001b[0;34m\u001b[0m\u001b[0;34m\u001b[0m\u001b[0m\n\u001b[1;32m     66\u001b[0m       \u001b[0mfiltered_tb\u001b[0m \u001b[0;34m=\u001b[0m \u001b[0m_process_traceback_frames\u001b[0m\u001b[0;34m(\u001b[0m\u001b[0me\u001b[0m\u001b[0;34m.\u001b[0m\u001b[0m__traceback__\u001b[0m\u001b[0;34m)\u001b[0m\u001b[0;34m\u001b[0m\u001b[0;34m\u001b[0m\u001b[0m\n",
            "\u001b[0;32m/usr/local/lib/python3.7/dist-packages/keras/engine/training.py\u001b[0m in \u001b[0;36mfit\u001b[0;34m(self, x, y, batch_size, epochs, verbose, callbacks, validation_split, validation_data, shuffle, class_weight, sample_weight, initial_epoch, steps_per_epoch, validation_steps, validation_batch_size, validation_freq, max_queue_size, workers, use_multiprocessing)\u001b[0m\n\u001b[1;32m   1382\u001b[0m                 _r=1):\n\u001b[1;32m   1383\u001b[0m               \u001b[0mcallbacks\u001b[0m\u001b[0;34m.\u001b[0m\u001b[0mon_train_batch_begin\u001b[0m\u001b[0;34m(\u001b[0m\u001b[0mstep\u001b[0m\u001b[0;34m)\u001b[0m\u001b[0;34m\u001b[0m\u001b[0;34m\u001b[0m\u001b[0m\n\u001b[0;32m-> 1384\u001b[0;31m               \u001b[0mtmp_logs\u001b[0m \u001b[0;34m=\u001b[0m \u001b[0mself\u001b[0m\u001b[0;34m.\u001b[0m\u001b[0mtrain_function\u001b[0m\u001b[0;34m(\u001b[0m\u001b[0miterator\u001b[0m\u001b[0;34m)\u001b[0m\u001b[0;34m\u001b[0m\u001b[0;34m\u001b[0m\u001b[0m\n\u001b[0m\u001b[1;32m   1385\u001b[0m               \u001b[0;32mif\u001b[0m \u001b[0mdata_handler\u001b[0m\u001b[0;34m.\u001b[0m\u001b[0mshould_sync\u001b[0m\u001b[0;34m:\u001b[0m\u001b[0;34m\u001b[0m\u001b[0;34m\u001b[0m\u001b[0m\n\u001b[1;32m   1386\u001b[0m                 \u001b[0mcontext\u001b[0m\u001b[0;34m.\u001b[0m\u001b[0masync_wait\u001b[0m\u001b[0;34m(\u001b[0m\u001b[0;34m)\u001b[0m\u001b[0;34m\u001b[0m\u001b[0;34m\u001b[0m\u001b[0m\n",
            "\u001b[0;32m/usr/local/lib/python3.7/dist-packages/tensorflow/python/util/traceback_utils.py\u001b[0m in \u001b[0;36merror_handler\u001b[0;34m(*args, **kwargs)\u001b[0m\n\u001b[1;32m    148\u001b[0m     \u001b[0mfiltered_tb\u001b[0m \u001b[0;34m=\u001b[0m \u001b[0;32mNone\u001b[0m\u001b[0;34m\u001b[0m\u001b[0;34m\u001b[0m\u001b[0m\n\u001b[1;32m    149\u001b[0m     \u001b[0;32mtry\u001b[0m\u001b[0;34m:\u001b[0m\u001b[0;34m\u001b[0m\u001b[0;34m\u001b[0m\u001b[0m\n\u001b[0;32m--> 150\u001b[0;31m       \u001b[0;32mreturn\u001b[0m \u001b[0mfn\u001b[0m\u001b[0;34m(\u001b[0m\u001b[0;34m*\u001b[0m\u001b[0margs\u001b[0m\u001b[0;34m,\u001b[0m \u001b[0;34m**\u001b[0m\u001b[0mkwargs\u001b[0m\u001b[0;34m)\u001b[0m\u001b[0;34m\u001b[0m\u001b[0;34m\u001b[0m\u001b[0m\n\u001b[0m\u001b[1;32m    151\u001b[0m     \u001b[0;32mexcept\u001b[0m \u001b[0mException\u001b[0m \u001b[0;32mas\u001b[0m \u001b[0me\u001b[0m\u001b[0;34m:\u001b[0m\u001b[0;34m\u001b[0m\u001b[0;34m\u001b[0m\u001b[0m\n\u001b[1;32m    152\u001b[0m       \u001b[0mfiltered_tb\u001b[0m \u001b[0;34m=\u001b[0m \u001b[0m_process_traceback_frames\u001b[0m\u001b[0;34m(\u001b[0m\u001b[0me\u001b[0m\u001b[0;34m.\u001b[0m\u001b[0m__traceback__\u001b[0m\u001b[0;34m)\u001b[0m\u001b[0;34m\u001b[0m\u001b[0;34m\u001b[0m\u001b[0m\n",
            "\u001b[0;32m/usr/local/lib/python3.7/dist-packages/tensorflow/python/eager/def_function.py\u001b[0m in \u001b[0;36m__call__\u001b[0;34m(self, *args, **kwds)\u001b[0m\n\u001b[1;32m    913\u001b[0m \u001b[0;34m\u001b[0m\u001b[0m\n\u001b[1;32m    914\u001b[0m       \u001b[0;32mwith\u001b[0m \u001b[0mOptionalXlaContext\u001b[0m\u001b[0;34m(\u001b[0m\u001b[0mself\u001b[0m\u001b[0;34m.\u001b[0m\u001b[0m_jit_compile\u001b[0m\u001b[0;34m)\u001b[0m\u001b[0;34m:\u001b[0m\u001b[0;34m\u001b[0m\u001b[0;34m\u001b[0m\u001b[0m\n\u001b[0;32m--> 915\u001b[0;31m         \u001b[0mresult\u001b[0m \u001b[0;34m=\u001b[0m \u001b[0mself\u001b[0m\u001b[0;34m.\u001b[0m\u001b[0m_call\u001b[0m\u001b[0;34m(\u001b[0m\u001b[0;34m*\u001b[0m\u001b[0margs\u001b[0m\u001b[0;34m,\u001b[0m \u001b[0;34m**\u001b[0m\u001b[0mkwds\u001b[0m\u001b[0;34m)\u001b[0m\u001b[0;34m\u001b[0m\u001b[0;34m\u001b[0m\u001b[0m\n\u001b[0m\u001b[1;32m    916\u001b[0m \u001b[0;34m\u001b[0m\u001b[0m\n\u001b[1;32m    917\u001b[0m       \u001b[0mnew_tracing_count\u001b[0m \u001b[0;34m=\u001b[0m \u001b[0mself\u001b[0m\u001b[0;34m.\u001b[0m\u001b[0mexperimental_get_tracing_count\u001b[0m\u001b[0;34m(\u001b[0m\u001b[0;34m)\u001b[0m\u001b[0;34m\u001b[0m\u001b[0;34m\u001b[0m\u001b[0m\n",
            "\u001b[0;32m/usr/local/lib/python3.7/dist-packages/tensorflow/python/eager/def_function.py\u001b[0m in \u001b[0;36m_call\u001b[0;34m(self, *args, **kwds)\u001b[0m\n\u001b[1;32m    945\u001b[0m       \u001b[0;31m# In this case we have created variables on the first call, so we run the\u001b[0m\u001b[0;34m\u001b[0m\u001b[0;34m\u001b[0m\u001b[0;34m\u001b[0m\u001b[0m\n\u001b[1;32m    946\u001b[0m       \u001b[0;31m# defunned version which is guaranteed to never create variables.\u001b[0m\u001b[0;34m\u001b[0m\u001b[0;34m\u001b[0m\u001b[0;34m\u001b[0m\u001b[0m\n\u001b[0;32m--> 947\u001b[0;31m       \u001b[0;32mreturn\u001b[0m \u001b[0mself\u001b[0m\u001b[0;34m.\u001b[0m\u001b[0m_stateless_fn\u001b[0m\u001b[0;34m(\u001b[0m\u001b[0;34m*\u001b[0m\u001b[0margs\u001b[0m\u001b[0;34m,\u001b[0m \u001b[0;34m**\u001b[0m\u001b[0mkwds\u001b[0m\u001b[0;34m)\u001b[0m  \u001b[0;31m# pylint: disable=not-callable\u001b[0m\u001b[0;34m\u001b[0m\u001b[0;34m\u001b[0m\u001b[0m\n\u001b[0m\u001b[1;32m    948\u001b[0m     \u001b[0;32melif\u001b[0m \u001b[0mself\u001b[0m\u001b[0;34m.\u001b[0m\u001b[0m_stateful_fn\u001b[0m \u001b[0;32mis\u001b[0m \u001b[0;32mnot\u001b[0m \u001b[0;32mNone\u001b[0m\u001b[0;34m:\u001b[0m\u001b[0;34m\u001b[0m\u001b[0;34m\u001b[0m\u001b[0m\n\u001b[1;32m    949\u001b[0m       \u001b[0;31m# Release the lock early so that multiple threads can perform the call\u001b[0m\u001b[0;34m\u001b[0m\u001b[0;34m\u001b[0m\u001b[0;34m\u001b[0m\u001b[0m\n",
            "\u001b[0;32m/usr/local/lib/python3.7/dist-packages/tensorflow/python/eager/function.py\u001b[0m in \u001b[0;36m__call__\u001b[0;34m(self, *args, **kwargs)\u001b[0m\n\u001b[1;32m   2955\u001b[0m        filtered_flat_args) = self._maybe_define_function(args, kwargs)\n\u001b[1;32m   2956\u001b[0m     return graph_function._call_flat(\n\u001b[0;32m-> 2957\u001b[0;31m         filtered_flat_args, captured_inputs=graph_function.captured_inputs)  # pylint: disable=protected-access\n\u001b[0m\u001b[1;32m   2958\u001b[0m \u001b[0;34m\u001b[0m\u001b[0m\n\u001b[1;32m   2959\u001b[0m   \u001b[0;34m@\u001b[0m\u001b[0mproperty\u001b[0m\u001b[0;34m\u001b[0m\u001b[0;34m\u001b[0m\u001b[0m\n",
            "\u001b[0;32m/usr/local/lib/python3.7/dist-packages/tensorflow/python/eager/function.py\u001b[0m in \u001b[0;36m_call_flat\u001b[0;34m(self, args, captured_inputs, cancellation_manager)\u001b[0m\n\u001b[1;32m   1852\u001b[0m       \u001b[0;31m# No tape is watching; skip to running the function.\u001b[0m\u001b[0;34m\u001b[0m\u001b[0;34m\u001b[0m\u001b[0;34m\u001b[0m\u001b[0m\n\u001b[1;32m   1853\u001b[0m       return self._build_call_outputs(self._inference_function.call(\n\u001b[0;32m-> 1854\u001b[0;31m           ctx, args, cancellation_manager=cancellation_manager))\n\u001b[0m\u001b[1;32m   1855\u001b[0m     forward_backward = self._select_forward_and_backward_functions(\n\u001b[1;32m   1856\u001b[0m         \u001b[0margs\u001b[0m\u001b[0;34m,\u001b[0m\u001b[0;34m\u001b[0m\u001b[0;34m\u001b[0m\u001b[0m\n",
            "\u001b[0;32m/usr/local/lib/python3.7/dist-packages/tensorflow/python/eager/function.py\u001b[0m in \u001b[0;36mcall\u001b[0;34m(self, ctx, args, cancellation_manager)\u001b[0m\n\u001b[1;32m    502\u001b[0m               \u001b[0minputs\u001b[0m\u001b[0;34m=\u001b[0m\u001b[0margs\u001b[0m\u001b[0;34m,\u001b[0m\u001b[0;34m\u001b[0m\u001b[0;34m\u001b[0m\u001b[0m\n\u001b[1;32m    503\u001b[0m               \u001b[0mattrs\u001b[0m\u001b[0;34m=\u001b[0m\u001b[0mattrs\u001b[0m\u001b[0;34m,\u001b[0m\u001b[0;34m\u001b[0m\u001b[0;34m\u001b[0m\u001b[0m\n\u001b[0;32m--> 504\u001b[0;31m               ctx=ctx)\n\u001b[0m\u001b[1;32m    505\u001b[0m         \u001b[0;32melse\u001b[0m\u001b[0;34m:\u001b[0m\u001b[0;34m\u001b[0m\u001b[0;34m\u001b[0m\u001b[0m\n\u001b[1;32m    506\u001b[0m           outputs = execute.execute_with_cancellation(\n",
            "\u001b[0;32m/usr/local/lib/python3.7/dist-packages/tensorflow/python/eager/execute.py\u001b[0m in \u001b[0;36mquick_execute\u001b[0;34m(op_name, num_outputs, inputs, attrs, ctx, name)\u001b[0m\n\u001b[1;32m     53\u001b[0m     \u001b[0mctx\u001b[0m\u001b[0;34m.\u001b[0m\u001b[0mensure_initialized\u001b[0m\u001b[0;34m(\u001b[0m\u001b[0;34m)\u001b[0m\u001b[0;34m\u001b[0m\u001b[0;34m\u001b[0m\u001b[0m\n\u001b[1;32m     54\u001b[0m     tensors = pywrap_tfe.TFE_Py_Execute(ctx._handle, device_name, op_name,\n\u001b[0;32m---> 55\u001b[0;31m                                         inputs, attrs, num_outputs)\n\u001b[0m\u001b[1;32m     56\u001b[0m   \u001b[0;32mexcept\u001b[0m \u001b[0mcore\u001b[0m\u001b[0;34m.\u001b[0m\u001b[0m_NotOkStatusException\u001b[0m \u001b[0;32mas\u001b[0m \u001b[0me\u001b[0m\u001b[0;34m:\u001b[0m\u001b[0;34m\u001b[0m\u001b[0;34m\u001b[0m\u001b[0m\n\u001b[1;32m     57\u001b[0m     \u001b[0;32mif\u001b[0m \u001b[0mname\u001b[0m \u001b[0;32mis\u001b[0m \u001b[0;32mnot\u001b[0m \u001b[0;32mNone\u001b[0m\u001b[0;34m:\u001b[0m\u001b[0;34m\u001b[0m\u001b[0;34m\u001b[0m\u001b[0m\n",
            "\u001b[0;31mKeyboardInterrupt\u001b[0m: "
          ]
        }
      ]
    },
    {
      "cell_type": "markdown",
      "source": [
        "# Plot results"
      ],
      "metadata": {
        "id": "hviZtMCmxQTk"
      }
    },
    {
      "cell_type": "code",
      "source": [
        "def summarize_diagnostics(history, model_name):\n",
        "\n",
        "    # plot loss\n",
        "    plt.subplot(211)\n",
        "    plt.title('Cross Entropy Loss')\n",
        "    plt.plot(history.history['loss'], color='royalblue', label='train')\n",
        "    plt.plot(history.history['val_loss'], color='orange', label='test')\n",
        "    plt.legend()\n",
        "    props = dict(boxstyle='round', facecolor='lightgrey', alpha=0.5)\n",
        "    plt.text(0, 0.15, \"min test loss = {}\".format(round(np.min(history.history['val_loss']),3)), fontsize=11, verticalalignment='top', bbox=props)\n",
        "    plt.grid(True)\n",
        "\n",
        "    # plot accuracy\n",
        "    plt.subplot(212)\n",
        "    plt.title('Classification Accuracy')\n",
        "    plt.plot(history.history['categorical_accuracy'], color='royalblue', label='train')\n",
        "    plt.plot(history.history['val_categorical_accuracy'], color='orange', label='test')\n",
        "    plt.xlabel(\"Epochs\")\n",
        "    plt.legend()\n",
        "    plt.text(2, 0.91, \"max test accuracy = {}\".format(round(np.max(history.history['val_categorical_accuracy']),3)), fontsize=11, verticalalignment='top', bbox=props)\n",
        "    plt.grid(True)\n",
        "\n",
        "    # Adjust postion of final plot\n",
        "    plt.subplots_adjust(bottom=-0.5)\n",
        "\n",
        "    # save plot to file\n",
        "    filename = sys.argv[0].split('/')[-1]\n",
        "    plt.savefig(os.path.join(os.getcwd(),'{}_plot.pdf'.format(model_name)),format=\"pdf\", bbox_inches='tight')\n",
        "    plt.show()"
      ],
      "metadata": {
        "id": "7KGC80emxpJw"
      },
      "execution_count": null,
      "outputs": []
    },
    {
      "cell_type": "code",
      "source": [
        "model_name = \"seq24\"\n",
        "summarize_diagnostics(history, model_name)\n",
        "with open(\"{}_specs.txt\".format(model_name),'w') as f:\n",
        "    model.summary(print_fn=lambda x: f.write(x + '\\n'))"
      ],
      "metadata": {
        "colab": {
          "base_uri": "https://localhost:8080/",
          "height": 475
        },
        "id": "F0xs_MQ0xo8o",
        "outputId": "05bbd0a1-e424-4253-f76a-8880c792c936"
      },
      "execution_count": null,
      "outputs": [
        {
          "output_type": "display_data",
          "data": {
            "text/plain": [
              "<Figure size 432x288 with 2 Axes>"
            ],
            "image/png": "[encoded data removed]"
          },
          "metadata": {
            "needs_background": "light"
          }
        }
      ]
    },
    {
      "cell_type": "markdown",
      "source": [
        "# To Do:\n",
        "- Visualise data"
      ],
      "metadata": {
        "id": "6ypm7qLy1fqk"
      }
    },
    {
      "cell_type": "code",
      "source": [
        "plt.imshow(X[0], interpolation='nearest')"
      ],
      "metadata": {
        "colab": {
          "base_uri": "https://localhost:8080/",
          "height": 285
        },
        "id": "4hh_5A_WYL5E",
        "outputId": "e298b39b-03d5-459d-ae10-2fdbb32c6488"
      },
      "execution_count": null,
      "outputs": [
        {
          "output_type": "execute_result",
          "data": {
            "text/plain": [
              "<matplotlib.image.AxesImage at 0x7fd12aba3150>"
            ]
          },
          "metadata": {},
          "execution_count": 86
        },
        {
          "output_type": "display_data",
          "data": {
            "text/plain": [
              "<Figure size 432x288 with 1 Axes>"
            ],
            "image/png": "[encoded data removed]"
          },
          "metadata": {
            "needs_background": "light"
          }
        }
      ]
    }
  ]
}